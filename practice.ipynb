{
  "cells": [
    {
      "cell_type": "markdown",
      "metadata": {
        "colab_type": "text",
        "id": "view-in-github"
      },
      "source": [
        "<a href=\"https://colab.research.google.com/github/KlokMiraj/complex_system_algo/blob/master/practice.ipynb\" target=\"_parent\"><img src=\"https://colab.research.google.com/assets/colab-badge.svg\" alt=\"Open In Colab\"/></a>"
      ]
    },
    {
      "cell_type": "markdown",
      "metadata": {
        "id": "hyX2Vyd2EsZw"
      },
      "source": [
        "Function to reverse an array in python"
      ]
    },
    {
      "cell_type": "code",
      "execution_count": 1,
      "metadata": {
        "colab": {
          "base_uri": "https://localhost:8080/"
        },
        "id": "ilUAbTUezu72",
        "outputId": "d0e66b37-ab0c-4aeb-f60c-d41abe65ae02"
      },
      "outputs": [
        {
          "name": "stdout",
          "output_type": "stream",
          "text": [
            "[8, 5, 4, 3, 2, 6]\n",
            "d 2\n",
            "e 2\n",
            "c 1\n",
            "a 2\n",
            "p 1\n",
            "i 2\n",
            "t 2\n",
            "o 1\n",
            "n 1\n"
          ]
        },
        {
          "name": "stderr",
          "output_type": "stream",
          "text": [
            "<>:9: SyntaxWarning: \"is\" with a literal. Did you mean \"==\"?\n",
            "<>:9: SyntaxWarning: \"is\" with a literal. Did you mean \"==\"?\n",
            "<ipython-input-1-a2b7de1d0ceb>:9: SyntaxWarning: \"is\" with a literal. Did you mean \"==\"?\n",
            "  if count is 0:\n"
          ]
        }
      ],
      "source": [
        "def revarr(a):\n",
        "  # //function to reverse an array\n",
        "  \n",
        "  count=0\n",
        "  reverse=[]\n",
        "  n=len(a)-1\n",
        "  i=0\n",
        "  for i in range(n+1):\n",
        "    if count is 0:\n",
        "     reverse.append(a[n])\n",
        "     count+=1\n",
        "    else:\n",
        "      reverse.append(a[n-i])\n",
        "  return reverse\n",
        "\n",
        "print(revarr([6,2,3,4,5,8]))\n",
        "\n",
        "def countnumbers(a):\n",
        "  # algorithm to count repeated letters in a word\n",
        "\n",
        "  a=a.casefold()\n",
        "  count={}\n",
        "  for i in a:\n",
        "    if i in count:\n",
        "      count[i]+=1\n",
        "    else:\n",
        "      count[i]=1\n",
        "  for key in count:\n",
        "   if count[key] > 0:\n",
        "    print(key,count[key])\n",
        "\n",
        "    \n",
        "  \n",
        "countnumbers('Decapitationed')\n"
      ]
    }
  ],
  "metadata": {
    "colab": {
      "authorship_tag": "ABX9TyNmEM0x8f608b7rJj4MS+Gr",
      "include_colab_link": true,
      "name": "practice.ipynb",
      "provenance": []
    },
    "kernelspec": {
      "display_name": "Python 3",
      "name": "python3"
    },
    "language_info": {
      "codemirror_mode": {
        "name": "ipython",
        "version": 3
      },
      "file_extension": ".py",
      "mimetype": "text/x-python",
      "name": "python",
      "nbconvert_exporter": "python",
      "pygments_lexer": "ipython3",
      "version": "3.8.8"
    }
  },
  "nbformat": 4,
  "nbformat_minor": 0
}
