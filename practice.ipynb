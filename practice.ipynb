{
  "nbformat": 4,
  "nbformat_minor": 0,
  "metadata": {
    "colab": {
      "name": "practice.ipynb",
      "provenance": [],
      "collapsed_sections": []
    },
    "kernelspec": {
      "name": "python3",
      "display_name": "Python 3"
    },
    "language_info": {
      "name": "python"
    }
  },
  "cells": [
    {
      "cell_type": "markdown",
      "source": [
        "Function to reverse an array in python"
      ],
      "metadata": {
        "id": "hyX2Vyd2EsZw"
      }
    },
    {
      "cell_type": "code",
      "execution_count": null,
      "metadata": {
        "colab": {
          "base_uri": "https://localhost:8080/"
        },
        "id": "ilUAbTUezu72",
        "outputId": "2d778722-c294-452e-a714-5309998b5e9b"
      },
      "outputs": [
        {
          "output_type": "stream",
          "name": "stdout",
          "text": [
            "[8, 5, 4, 3, 2, 6]\n"
          ]
        }
      ],
      "source": [
        "def revarr(a):\n",
        "  # //function to reverse an array\n",
        "  count=0\n",
        "  reverse=[]\n",
        "  n=len(a)-1\n",
        "  for i in range(n+1):\n",
        "    if count is 0:\n",
        "     reverse.append(a[n])\n",
        "     count+=1\n",
        "    else:\n",
        "      reverse.append(a[n-i])\n",
        "  return reverse\n",
        "\n",
        "print(revarr([6,2,3,4,5,8]))"
      ]
    },
    {
      "cell_type": "markdown",
      "source": [
        "Insertion sort python\n"
      ],
      "metadata": {
        "id": "opBrpCrO2Xa3"
      }
    },
    {
      "cell_type": "code",
      "source": [
        "def insertion(a):\n",
        "  #program to perform insertion sort\n",
        "  \n",
        "  #Arraysorted=[]\n",
        "  for i in range(len(a)):\n",
        "    key=a[i]\n",
        "    j=i-1\n",
        "    while j>=0 and a[j]>key :\n",
        "      a[j+1]=a[j]\n",
        "      j=j-1\n",
        "      a[i-1]=key\n",
        "      print(a)\n",
        "\n",
        "insertion([9,3,5,1,6,4])"
      ],
      "metadata": {
        "colab": {
          "base_uri": "https://localhost:8080/"
        },
        "id": "iRPspEdC31Hk",
        "outputId": "752b8a24-e42d-468e-b91c-635ab70a0112"
      },
      "execution_count": null,
      "outputs": [
        {
          "output_type": "stream",
          "name": "stdout",
          "text": [
            "[3, 9, 5, 1, 6, 4]\n",
            "[3, 5, 9, 1, 6, 4]\n",
            "[3, 5, 1, 9, 6, 4]\n",
            "[3, 5, 1, 9, 6, 4]\n",
            "[3, 3, 1, 9, 6, 4]\n",
            "[3, 3, 1, 6, 9, 4]\n",
            "[3, 3, 1, 6, 4, 9]\n",
            "[3, 3, 1, 6, 4, 9]\n"
          ]
        }
      ]
    },
    {
      "cell_type": "markdown",
      "source": [
        "Count Repeated LEtters in a word"
      ],
      "metadata": {
        "id": "g1mR6ksB2bYp"
      }
    },
    {
      "cell_type": "code",
      "source": [
        "def countnumbers(a):\n",
        "  # algorithm to count repeated letters in a word\n",
        "\n",
        "  a=a.casefold()\n",
        "  count={}\n",
        "  for i in a:\n",
        "    if i in count:\n",
        "      count[i]+=1\n",
        "    else:\n",
        "      count[i]=1\n",
        "  for key in count:\n",
        "   if count[key] > 0:\n",
        "    print(key,count[key])\n",
        "\n",
        "    \n",
        "  \n",
        "countnumbers('Decapitationed')\n",
        "\n"
      ],
      "metadata": {
        "colab": {
          "base_uri": "https://localhost:8080/"
        },
        "id": "N2zH7jEDIjRk",
        "outputId": "b4cca106-b63c-44e5-d073-73d790f7aa39"
      },
      "execution_count": null,
      "outputs": [
        {
          "output_type": "stream",
          "name": "stdout",
          "text": [
            "d 2\n",
            "e 2\n",
            "c 1\n",
            "a 2\n",
            "p 1\n",
            "i 2\n",
            "t 2\n",
            "o 1\n",
            "n 1\n"
          ]
        }
      ]
    },
    {
      "cell_type": "markdown",
      "source": [
        "Count elements of integer in an array that can be paired up with each other \n"
      ],
      "metadata": {
        "id": "FMyH3X8q2fTE"
      }
    },
    {
      "cell_type": "code",
      "source": [
        "def countnumbers(a):\n",
        "\n",
        "    \"\"\" \n",
        "    Function to count the pairs given an array\n",
        "    @parms number of array\n",
        "    @returns count of numbers that cant be paired \n",
        "      \"\"\"\n",
        "\n",
        "    count={}\n",
        "    pairedkey_count=list()\n",
        "    for i in a:\n",
        "      if i in count:\n",
        "        count[i]+=1\n",
        "      else:\n",
        "        count[i]=1\n",
        "    for key in count:\n",
        "     if (count[key] % 2):\n",
        "        pairedkey_count.append(key)\n",
        "\n",
        "    return len(pairedkey_count)\n",
        "\n",
        "input_array=[1,2,3,4,4,5,6,7,3,4,5,4,5]\n",
        "text='for \"{}\" array the count of elements that cannot be paired are {}.'\n",
        "print(text.format(input_array,countnumbers(input_array)))"
      ],
      "metadata": {
        "colab": {
          "base_uri": "https://localhost:8080/"
        },
        "id": "S4qbtki__kEQ",
        "outputId": "0bff3c26-39b0-4a91-fb52-866dbcc65df3"
      },
      "execution_count": null,
      "outputs": [
        {
          "output_type": "stream",
          "name": "stdout",
          "text": [
            "for \"[1, 2, 3, 4, 4, 5, 6, 7, 3, 4, 5, 4, 5]\" array the count of elements that cannot be paired are 5.\n"
          ]
        }
      ]
    },
    {
      "cell_type": "markdown",
      "source": [
        "Breadth First Search "
      ],
      "metadata": {
        "id": "rWZjrTZH2pND"
      }
    },
    {
      "cell_type": "code",
      "source": [
        "graph={}\n",
        "\n",
        "def add_edge(u,v):\n",
        "  graph[u]=v\n",
        "\n",
        "def SearchDoors(source):\n",
        "  visited=[False for i in graph]\n",
        "\n",
        "  queue=[]\n",
        "  queue.append(source)\n",
        "\n",
        "  visited[source]=True\n",
        "\n",
        "  while queue:\n",
        "    s=queue.pop(0)\n",
        "    print(s,end=' ')\n",
        "\n",
        "    for i in graph:\n",
        "      if visited[i]==False:\n",
        "        queue.append(i)\n",
        "        visited[i]=True\n",
        "\n",
        "doors = [[0,1], [1,2], [1,3], [2,4], [4,5], [3,4]]\n",
        "for i in doors:\n",
        "  add_edge(i[0],i[1])\n",
        "\n",
        "SearchDoors(0)"
      ],
      "metadata": {
        "colab": {
          "base_uri": "https://localhost:8080/"
        },
        "id": "9t2FJjzZUrHZ",
        "outputId": "ed4b1e72-598c-4091-c671-eb232f5f471b"
      },
      "execution_count": 14,
      "outputs": [
        {
          "output_type": "stream",
          "name": "stdout",
          "text": [
            "0 1 2 4 3 "
          ]
        }
      ]
    }
  ]
}