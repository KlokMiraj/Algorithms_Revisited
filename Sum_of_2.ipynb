{
  "nbformat": 4,
  "nbformat_minor": 0,
  "metadata": {
    "colab": {
      "name": "Untitled2.ipynb",
      "provenance": []
    },
    "kernelspec": {
      "name": "python3",
      "display_name": "Python 3"
    },
    "language_info": {
      "name": "python"
    }
  },
  "cells": [
    {
      "cell_type": "markdown",
      "source": [
        "Algorithm to find sum of two numbers that equals to target."
      ],
      "metadata": {
        "id": "S_p4VZOfjYR_"
      }
    },
    {
      "cell_type": "markdown",
      "source": [
        "Bad approach of solution"
      ],
      "metadata": {
        "id": "_JWtemHDjiMI"
      }
    },
    {
      "cell_type": "code",
      "execution_count": 14,
      "metadata": {
        "colab": {
          "base_uri": "https://localhost:8080/"
        },
        "id": "QHBvUTPkjWmy",
        "outputId": "e2a9f8dc-4893-4432-8d20-75ab408284ad"
      },
      "outputs": [
        {
          "output_type": "stream",
          "name": "stdout",
          "text": [
            "[]\n"
          ]
        }
      ],
      "source": [
        "def twosums(nums,target):\n",
        "  for i in range(len(nums)):\n",
        "            if(nums[i]+nums[i+1]==target):\n",
        "                return [i,i+1]\n",
        "            else:\n",
        "                return []\n",
        "\n",
        "print(twosums([3,2,7,3],10))"
      ]
    },
    {
      "cell_type": "markdown",
      "source": [
        "Incomplete solution with O(n^2) time complexity "
      ],
      "metadata": {
        "id": "ltiCc0eIlVlk"
      }
    },
    {
      "cell_type": "code",
      "source": [
        "def twosums(nums,target):\n",
        "  for i,n in range (len(nums)):\n",
        "    index_match={}\n",
        "    match=target-n\n",
        "    j=i+1\n",
        "    for j in range(len(nums)):\n",
        "      if(nums[j]==match):\n",
        "        index_match.append([i,j])\n",
        "        return result"
      ],
      "metadata": {
        "id": "Wdj8TNIBlVTn"
      },
      "execution_count": null,
      "outputs": []
    }
  ]
}