{
  "nbformat": 4,
  "nbformat_minor": 0,
  "metadata": {
    "colab": {
      "name": "practice.ipynb",
      "provenance": [],
      "authorship_tag": "ABX9TyNmEM0x8f608b7rJj4MS+Gr",
      "include_colab_link": true
    },
    "kernelspec": {
      "name": "python3",
      "display_name": "Python 3"
    },
    "language_info": {
      "name": "python"
    }
  },
  "cells": [
    {
      "cell_type": "markdown",
      "metadata": {
        "id": "view-in-github",
        "colab_type": "text"
      },
      "source": [
        "<a href=\"https://colab.research.google.com/github/KlokMiraj/complex_system_algo/blob/master/practice.ipynb\" target=\"_parent\"><img src=\"https://colab.research.google.com/assets/colab-badge.svg\" alt=\"Open In Colab\"/></a>"
      ]
    },
    {
      "cell_type": "markdown",
      "source": [
        "Function to reverse an array in python"
      ],
      "metadata": {
        "id": "hyX2Vyd2EsZw"
      }
    },
    {
      "cell_type": "code",
      "execution_count": 23,
      "metadata": {
        "colab": {
          "base_uri": "https://localhost:8080/"
        },
        "id": "ilUAbTUezu72",
        "outputId": "d0e66b37-ab0c-4aeb-f60c-d41abe65ae02"
      },
      "outputs": [
        {
          "output_type": "stream",
          "name": "stdout",
          "text": [
            "[8, 5, 4, 3, 2, 6]\n"
          ]
        }
      ],
      "source": [
        "def revarr(a):\n",
        "  # //function to reverse an array\n",
        "  \n",
        "  count=0\n",
        "  reverse=[]\n",
        "  n=len(a)-1\n",
        "  i=0\n",
        "  for i in range(n+1):\n",
        "    if count is 0:\n",
        "     reverse.append(a[n])\n",
        "     count+=1\n",
        "    else:\n",
        "      reverse.append(a[n-i])\n",
        "  return reverse\n",
        "\n",
        "print(revarr([6,2,3,4,5,8]))"
      ]
    }
  ]
}